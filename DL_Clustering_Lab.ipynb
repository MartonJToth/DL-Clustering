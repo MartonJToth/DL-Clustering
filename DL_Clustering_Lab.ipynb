{
  "nbformat": 4,
  "nbformat_minor": 0,
  "metadata": {
    "colab": {
      "name": "DL Clustering Lab.ipynb",
      "provenance": [],
      "collapsed_sections": [],
      "authorship_tag": "ABX9TyPnmz31BRwlHx36sk+0IWJE",
      "include_colab_link": true
    },
    "kernelspec": {
      "name": "python3",
      "display_name": "Python 3"
    }
  },
  "cells": [
    {
      "cell_type": "markdown",
      "metadata": {
        "id": "view-in-github",
        "colab_type": "text"
      },
      "source": [
        "<a href=\"https://colab.research.google.com/github/MartonJToth/DL-Clustering/blob/master/DL_Clustering_Lab.ipynb\" target=\"_parent\"><img src=\"https://colab.research.google.com/assets/colab-badge.svg\" alt=\"Open In Colab\"/></a>"
      ]
    },
    {
      "cell_type": "markdown",
      "metadata": {
        "id": "O_N943nhQJ9-",
        "colab_type": "text"
      },
      "source": [
        "Szükséges könyvtárak telepítése"
      ]
    },
    {
      "cell_type": "code",
      "metadata": {
        "id": "QZcg17UZmfe1",
        "colab_type": "code",
        "colab": {}
      },
      "source": [
        "# Lab based on the work of Yuefeng Zhang\n",
        "# https://towardsdatascience.com/deep-clustering-for-financial-market-segmentation-2a41573618cf\n",
        "# Origianl paper:\n",
        "# https://arxiv.org/pdf/1511.06335.pdf\n",
        "# Data:\n",
        "# https://www.kaggle.com/arjunbhasin2013/ccdata/data\n",
        "\n",
        "\n",
        "!pip install Pandas\n",
        "!pip install scikit-learn"
      ],
      "execution_count": 0,
      "outputs": []
    },
    {
      "cell_type": "markdown",
      "metadata": {
        "id": "oYRErzWkQTB4",
        "colab_type": "text"
      },
      "source": [
        "Adatok letöltése"
      ]
    },
    {
      "cell_type": "code",
      "metadata": {
        "id": "bNeb1F0xmXHL",
        "colab_type": "code",
        "colab": {}
      },
      "source": [
        "!wget http://cg.iit.bme.hu/~tmarton/deeplearning/ccdata.zip\n",
        "!unzip ccdata.zip\n"
      ],
      "execution_count": 0,
      "outputs": []
    },
    {
      "cell_type": "markdown",
      "metadata": {
        "id": "_O1_TKpWQaOG",
        "colab_type": "text"
      },
      "source": [
        "Importok"
      ]
    },
    {
      "cell_type": "code",
      "metadata": {
        "id": "0noYa7slmjwp",
        "colab_type": "code",
        "colab": {}
      },
      "source": [
        "import pandas as pd\n",
        "from sklearn.preprocessing import MinMaxScaler\n",
        "import sklearn as sklearn\n",
        "import sklearn.cluster\n",
        "from sklearn.cluster import KMeans\n",
        "import keras as keras\n",
        "from IPython.display import Image\n",
        "from keras import backend as K\n",
        "import numpy as np\n",
        "\n",
        "from time import time\n",
        "from keras.engine.topology import Layer, InputSpec\n",
        "from keras.layers import Dense, Input\n",
        "from keras.models import Model\n",
        "from keras.optimizers import SGD\n",
        "from keras import callbacks\n",
        "from keras.initializers import VarianceScaling\n",
        "from sklearn.cluster import KMeans\n",
        "#import metrics\n",
        "\n",
        "np.random.seed(10)"
      ],
      "execution_count": 0,
      "outputs": []
    },
    {
      "cell_type": "markdown",
      "metadata": {
        "id": "IV_dC_NwQdVd",
        "colab_type": "text"
      },
      "source": [
        "Adatok megnyitása és megtekintése"
      ]
    },
    {
      "cell_type": "code",
      "metadata": {
        "id": "_0hjjE0nmtXn",
        "colab_type": "code",
        "colab": {}
      },
      "source": [
        "\n",
        "\n",
        "\n",
        "\n"
      ],
      "execution_count": 0,
      "outputs": []
    },
    {
      "cell_type": "markdown",
      "metadata": {
        "id": "To9mom0eQ1Le",
        "colab_type": "text"
      },
      "source": [
        "Egyedi azonosító eltávolítása"
      ]
    },
    {
      "cell_type": "code",
      "metadata": {
        "id": "nUTsRySgmyIY",
        "colab_type": "code",
        "colab": {}
      },
      "source": [
        "\n",
        "\n",
        "\n",
        "\n"
      ],
      "execution_count": 0,
      "outputs": []
    },
    {
      "cell_type": "markdown",
      "metadata": {
        "id": "SoOjQln1Q5Ch",
        "colab_type": "text"
      },
      "source": [
        "Adatok átskálázása 0-1 tartományba"
      ]
    },
    {
      "cell_type": "code",
      "metadata": {
        "id": "o7dJKcEom0lv",
        "colab_type": "code",
        "colab": {}
      },
      "source": [
        "\n",
        "\n",
        "\n"
      ],
      "execution_count": 0,
      "outputs": []
    },
    {
      "cell_type": "markdown",
      "metadata": {
        "id": "urDvdeRSQ_Gn",
        "colab_type": "text"
      },
      "source": [
        "Üres mezők kitöltése"
      ]
    },
    {
      "cell_type": "code",
      "metadata": {
        "id": "FKtK1wRPnIuy",
        "colab_type": "code",
        "colab": {}
      },
      "source": [
        "\n",
        "\n",
        "\n"
      ],
      "execution_count": 0,
      "outputs": []
    },
    {
      "cell_type": "code",
      "metadata": {
        "id": "srsaPClLnNaB",
        "colab_type": "code",
        "colab": {}
      },
      "source": [
        "\n",
        "\n",
        "\n"
      ],
      "execution_count": 0,
      "outputs": []
    },
    {
      "cell_type": "markdown",
      "metadata": {
        "id": "p7vwNA1SROP2",
        "colab_type": "text"
      },
      "source": [
        "Encoder-Decoder struktúra felépítése"
      ]
    },
    {
      "cell_type": "code",
      "metadata": {
        "id": "7qTE1hkznS2h",
        "colab_type": "code",
        "colab": {}
      },
      "source": [
        "def autoencoder(dims, act='relu', init='glorot_uniform'):\n",
        "    \n",
        "    \n",
        "\n",
        "\n",
        "\n",
        "    \n",
        "    \n",
        "    return autoencoder_model, encoder_model"
      ],
      "execution_count": 0,
      "outputs": []
    },
    {
      "cell_type": "code",
      "metadata": {
        "id": "arK-AJIonWVB",
        "colab_type": "code",
        "colab": {}
      },
      "source": [
        "data_x.dtypes"
      ],
      "execution_count": 0,
      "outputs": []
    },
    {
      "cell_type": "code",
      "metadata": {
        "id": "fEVAq4OonZrX",
        "colab_type": "code",
        "colab": {}
      },
      "source": [
        "x = data_x.values\n",
        "x.shape"
      ],
      "execution_count": 0,
      "outputs": []
    },
    {
      "cell_type": "code",
      "metadata": {
        "id": "iERlRInRnc8Q",
        "colab_type": "code",
        "colab": {}
      },
      "source": [
        "n_clusters = 3 # 3 - 0.291, 4 - 0.280, 5 - 0.228, 6 - 0.227, 10 - 0.192\n",
        "n_epochs   = 20#100\n",
        "batch_size = 128\n",
        "save_dir = './'"
      ],
      "execution_count": 0,
      "outputs": []
    },
    {
      "cell_type": "markdown",
      "metadata": {
        "id": "4koPCenURepC",
        "colab_type": "text"
      },
      "source": [
        "KMenas klaszterezés az összehasonlítás kedvéért"
      ]
    },
    {
      "cell_type": "code",
      "metadata": {
        "id": "Cs4iVBW5nf_B",
        "colab_type": "code",
        "colab": {}
      },
      "source": [
        "\n",
        "\n",
        "\n"
      ],
      "execution_count": 0,
      "outputs": []
    },
    {
      "cell_type": "markdown",
      "metadata": {
        "id": "tYkF-MprRk7Q",
        "colab_type": "text"
      },
      "source": [
        "Tanítás inicializálása"
      ]
    },
    {
      "cell_type": "code",
      "metadata": {
        "id": "17H2mKRfnj0w",
        "colab_type": "code",
        "colab": {}
      },
      "source": [
        "dims = [x.shape[-1], 500, 500, 2000, 10] \n",
        "init = VarianceScaling(scale=1. / 3., mode='fan_in',\n",
        "                           distribution='uniform')\n",
        "pretrain_optimizer = SGD(lr=1, momentum=0.9)\n",
        "pretrain_epochs = n_epochs\n",
        "batch_size = batch_size"
      ],
      "execution_count": 0,
      "outputs": []
    },
    {
      "cell_type": "code",
      "metadata": {
        "id": "Zl-Mv2Jhno0q",
        "colab_type": "code",
        "colab": {}
      },
      "source": [
        "dims"
      ],
      "execution_count": 0,
      "outputs": []
    },
    {
      "cell_type": "code",
      "metadata": {
        "id": "S0HGCcGfnrRY",
        "colab_type": "code",
        "colab": {}
      },
      "source": [
        "autoencoder, encoder = autoencoder(dims, init=init)"
      ],
      "execution_count": 0,
      "outputs": []
    },
    {
      "cell_type": "code",
      "metadata": {
        "id": "TIWoS3Mwnt6Z",
        "colab_type": "code",
        "colab": {}
      },
      "source": [
        "\n",
        "\n",
        "\n"
      ],
      "execution_count": 0,
      "outputs": []
    },
    {
      "cell_type": "code",
      "metadata": {
        "id": "FwQLhdAvn09D",
        "colab_type": "code",
        "colab": {}
      },
      "source": [
        "\n",
        "\n",
        "\n"
      ],
      "execution_count": 0,
      "outputs": []
    },
    {
      "cell_type": "markdown",
      "metadata": {
        "id": "kWVFTt4QRt08",
        "colab_type": "text"
      },
      "source": [
        "Encoder-Decoder struktúra tanítása"
      ]
    },
    {
      "cell_type": "code",
      "metadata": {
        "id": "pd5sG8uUn56r",
        "colab_type": "code",
        "colab": {}
      },
      "source": [
        "\n",
        "\n",
        "\n",
        "\n"
      ],
      "execution_count": 0,
      "outputs": []
    },
    {
      "cell_type": "markdown",
      "metadata": {
        "id": "xAauW6fMR3Kv",
        "colab_type": "text"
      },
      "source": [
        "Clustering Layer\n",
        "\n",
        "https://arxiv.org/pdf/1511.06335.pdf"
      ]
    },
    {
      "cell_type": "code",
      "metadata": {
        "id": "NF_Qku-on_TN",
        "colab_type": "code",
        "colab": {}
      },
      "source": [
        "class ClusteringLayer(Layer):\n",
        "    '''\n",
        "    Clustering layer converts input sample (feature) to soft label, i.e. a vector that represents the probability of the\n",
        "    sample belonging to each cluster. The probability is calculated with student's t-distribution.\n",
        "    '''\n",
        "\n",
        "    def __init__(self, n_clusters, weights=None, alpha=1.0, **kwargs):\n",
        "        if 'input_shape' not in kwargs and 'input_dim' in kwargs:\n",
        "            kwargs['input_shape'] = (kwargs.pop('input_dim'),)\n",
        "        super(ClusteringLayer, self).__init__(**kwargs)\n",
        "        self.n_clusters = n_clusters\n",
        "        self.alpha = alpha\n",
        "        self.initial_weights = weights\n",
        "        self.input_spec = InputSpec(ndim=2)\n",
        "\n",
        "    def build(self, input_shape):\n",
        "        assert len(input_shape) == 2\n",
        "        input_dim = input_shape[1]\n",
        "        self.input_spec = InputSpec(dtype=K.floatx(), shape=(None, input_dim))\n",
        "        self.clusters = self.add_weight(name='clusters', shape=(self.n_clusters, input_dim), initializer='glorot_uniform') \n",
        "        \n",
        "        if self.initial_weights is not None:\n",
        "            self.set_weights(self.initial_weights)\n",
        "            del self.initial_weights\n",
        "        self.built = True\n",
        "\n",
        "    def call(self, inputs, **kwargs):\n",
        "        ''' \n",
        "        student t-distribution, as used in t-SNE algorithm.\n",
        "        It measures the similarity between embedded point z_i and centroid µ_j.\n",
        "                 q_ij = 1/(1+dist(x_i, µ_j)^2), then normalize it.\n",
        "                 q_ij can be interpreted as the probability of assigning sample i to cluster j.\n",
        "                 (i.e., a soft assignment)\n",
        "       \n",
        "        inputs: the variable containing data, shape=(n_samples, n_features)\n",
        "        \n",
        "        Return: student's t-distribution, or soft labels for each sample. shape=(n_samples, n_clusters)\n",
        "        '''\n",
        "        q = 1.0 / (1.0 + (K.sum(K.square(K.expand_dims(inputs, axis=1) - self.clusters), axis=2) / self.alpha))\n",
        "        q **= (self.alpha + 1.0) / 2.0\n",
        "        q = K.transpose(K.transpose(q) / K.sum(q, axis=1)) # Make sure all of the values of each sample sum up to 1.\n",
        "        \n",
        "        return q\n",
        "\n",
        "    def compute_output_shape(self, input_shape):\n",
        "        assert input_shape and len(input_shape) == 2\n",
        "        return input_shape[0], self.n_clusters\n",
        "\n",
        "    def get_config(self):\n",
        "        config = {'n_clusters': self.n_clusters}\n",
        "        base_config = super(ClusteringLayer, self).get_config()\n",
        "        return dict(list(base_config.items()) + list(config.items()))"
      ],
      "execution_count": 0,
      "outputs": []
    },
    {
      "cell_type": "markdown",
      "metadata": {
        "id": "tXBJvhMbT9bU",
        "colab_type": "text"
      },
      "source": [
        "Új modell Encoder és Clustering"
      ]
    },
    {
      "cell_type": "code",
      "metadata": {
        "id": "06mziNTGp9Io",
        "colab_type": "code",
        "colab": {}
      },
      "source": [
        "\n",
        "\n",
        "\n"
      ],
      "execution_count": 0,
      "outputs": []
    },
    {
      "cell_type": "code",
      "metadata": {
        "id": "qCowPIw0qBrb",
        "colab_type": "code",
        "colab": {}
      },
      "source": [
        "\n",
        "\n",
        "\n"
      ],
      "execution_count": 0,
      "outputs": []
    },
    {
      "cell_type": "markdown",
      "metadata": {
        "id": "wT0oN9vGUkJ0",
        "colab_type": "text"
      },
      "source": [
        "Új hálózat tanítása"
      ]
    },
    {
      "cell_type": "code",
      "metadata": {
        "id": "dCn6V3qEqFwm",
        "colab_type": "code",
        "colab": {}
      },
      "source": [
        "\n",
        "\n"
      ],
      "execution_count": 0,
      "outputs": []
    },
    {
      "cell_type": "code",
      "metadata": {
        "id": "vJFQXd_XqJ8p",
        "colab_type": "code",
        "colab": {}
      },
      "source": [
        "kmeans = KMeans(n_clusters=n_clusters, n_init=20)\n",
        "y_pred = kmeans.fit_predict(encoder.predict(x))"
      ],
      "execution_count": 0,
      "outputs": []
    },
    {
      "cell_type": "code",
      "metadata": {
        "id": "NOKozBmUqL8N",
        "colab_type": "code",
        "colab": {}
      },
      "source": [
        "y_pred_last = np.copy(y_pred)"
      ],
      "execution_count": 0,
      "outputs": []
    },
    {
      "cell_type": "code",
      "metadata": {
        "id": "X56Zh7odqOZE",
        "colab_type": "code",
        "colab": {}
      },
      "source": [
        "\n",
        "\n",
        "\n"
      ],
      "execution_count": 0,
      "outputs": []
    },
    {
      "cell_type": "code",
      "metadata": {
        "id": "soTizLrjqQ2d",
        "colab_type": "code",
        "colab": {}
      },
      "source": [
        "# computing an auxiliary target distribution\n",
        "def target_distribution(q):\n",
        "    weight = q ** 2 / q.sum(0)\n",
        "    return (weight.T / weight.sum(1)).T"
      ],
      "execution_count": 0,
      "outputs": []
    },
    {
      "cell_type": "code",
      "metadata": {
        "id": "TnlI-KaNqTqr",
        "colab_type": "code",
        "colab": {}
      },
      "source": [
        "loss = 0\n",
        "index = 0\n",
        "maxiter = 1000 # 8000\n",
        "update_interval = 100 # 140\n",
        "index_array = np.arange(x.shape[0])"
      ],
      "execution_count": 0,
      "outputs": []
    },
    {
      "cell_type": "code",
      "metadata": {
        "id": "Qcl8qJdKqWDH",
        "colab_type": "code",
        "colab": {}
      },
      "source": [
        "tol = 0.001 # tolerance threshold to stop training"
      ],
      "execution_count": 0,
      "outputs": []
    },
    {
      "cell_type": "code",
      "metadata": {
        "id": "Gs_qLmVbqaNB",
        "colab_type": "code",
        "colab": {}
      },
      "source": [
        "for ite in range(int(maxiter)):\n",
        "    if ite % update_interval == 0:\n",
        "        q = model.predict(x, verbose=0)\n",
        "        p = target_distribution(q)  # update the auxiliary target distribution p\n",
        "\n",
        "    idx = index_array[index * batch_size: min((index+1) * batch_size, x.shape[0])]\n",
        "    loss = model.train_on_batch(x=x[idx], y=p[idx])\n",
        "    index = index + 1 if (index + 1) * batch_size <= x.shape[0] else 0\n",
        "\n",
        "model.save_weights(save_dir + '/DEC_model_final.h5')"
      ],
      "execution_count": 0,
      "outputs": []
    },
    {
      "cell_type": "markdown",
      "metadata": {
        "id": "bI-4hFg8WAWA",
        "colab_type": "text"
      },
      "source": [
        "Modell kiértékelése és kirajzolás"
      ]
    },
    {
      "cell_type": "code",
      "metadata": {
        "id": "nbzxS-gOqqVF",
        "colab_type": "code",
        "colab": {}
      },
      "source": [
        "# Eval.\n",
        "q = model.predict(x, verbose=0)\n",
        "p = target_distribution(q)  # update the auxiliary target distribution p\n",
        "\n",
        "# evaluate the clustering performance\n",
        "y_pred = q.argmax(1)"
      ],
      "execution_count": 0,
      "outputs": []
    },
    {
      "cell_type": "code",
      "metadata": {
        "id": "5jaM4S3xqvM_",
        "colab_type": "code",
        "colab": {}
      },
      "source": [
        "data_all = data_x.copy()\n",
        "data_all['cluster'] = y_pred\n",
        "data_all.head()\n",
        "data_all['cluster'].value_counts()"
      ],
      "execution_count": 0,
      "outputs": []
    },
    {
      "cell_type": "code",
      "metadata": {
        "id": "9VB7DsTKrKTv",
        "colab_type": "code",
        "colab": {}
      },
      "source": [
        "from sklearn.manifold import TSNE\n",
        "\n",
        "x_embedded = TSNE(n_components=2).fit_transform(x)\n",
        "x_embedded.shape"
      ],
      "execution_count": 0,
      "outputs": []
    },
    {
      "cell_type": "code",
      "metadata": {
        "id": "TiHmcSG-rTJ_",
        "colab_type": "code",
        "colab": {}
      },
      "source": [
        "\n",
        "\n",
        "\n",
        "\n"
      ],
      "execution_count": 0,
      "outputs": []
    },
    {
      "cell_type": "code",
      "metadata": {
        "id": "wbVlRxnur_ug",
        "colab_type": "code",
        "colab": {}
      },
      "source": [
        "\n",
        "\n",
        "\n"
      ],
      "execution_count": 0,
      "outputs": []
    },
    {
      "cell_type": "code",
      "metadata": {
        "id": "xH5POicStFp8",
        "colab_type": "code",
        "colab": {}
      },
      "source": [
        "\n",
        "\n"
      ],
      "execution_count": 0,
      "outputs": []
    },
    {
      "cell_type": "code",
      "metadata": {
        "id": "N2Oakd7-tJIF",
        "colab_type": "code",
        "colab": {}
      },
      "source": [
        "\n",
        "\n"
      ],
      "execution_count": 0,
      "outputs": []
    },
    {
      "cell_type": "code",
      "metadata": {
        "id": "n3FCWfG3tM8n",
        "colab_type": "code",
        "colab": {}
      },
      "source": [
        "\n",
        "\n"
      ],
      "execution_count": 0,
      "outputs": []
    },
    {
      "cell_type": "markdown",
      "metadata": {
        "id": "4XroaKXlWYRb",
        "colab_type": "text"
      },
      "source": [
        "Modell újraépítése a Decoder ággal"
      ]
    },
    {
      "cell_type": "code",
      "metadata": {
        "id": "iLMTGIKItVqw",
        "colab_type": "code",
        "colab": {}
      },
      "source": [
        "# Need to re-run autoencoder function declaration!!!\n",
        "def autoencoder(dims, act='relu', init='glorot_uniform'):\n",
        "    \"\"\"\n",
        "    Fully connected auto-encoder model, symmetric.\n",
        "    Arguments:\n",
        "        dims: list of number of units in each layer of encoder. dims[0] is input dim, dims[-1] is units in hidden layer.\n",
        "            The decoder is symmetric with encoder. So number of layers of the auto-encoder is 2*len(dims)-1\n",
        "        act: activation, not applied to Input, Hidden and Output layers\n",
        "    return:\n",
        "        (ae_model, encoder_model), Model of autoencoder and model of encoder\n",
        "    \"\"\"\n",
        "    n_stacks = len(dims) - 1\n",
        "    # input\n",
        "    input_data = Input(shape=(dims[0],), name='input')\n",
        "    x = input_data\n",
        "    \n",
        "    # internal layers in encoder\n",
        "    for i in range(n_stacks-1):\n",
        "        x = Dense(dims[i + 1], activation=act, kernel_initializer=init, name='encoder_%d' % i)(x)\n",
        "\n",
        "    # hidden layer\n",
        "    encoded = Dense(dims[-1], kernel_initializer=init, name='encoder_%d' % (n_stacks - 1))(x)  # hidden layer, features are extracted from here\n",
        "\n",
        "    x = encoded\n",
        "    # internal layers in decoder\n",
        "    for i in range(n_stacks-1, 0, -1):\n",
        "        x = Dense(dims[i], activation=act, kernel_initializer=init, name='decoder_%d' % i)(x)\n",
        "\n",
        "    # output\n",
        "    x = Dense(dims[0], kernel_initializer=init, name='decoder_0')(x)\n",
        "    decoded = x\n",
        "    return Model(inputs=input_data, outputs=decoded, name='AE'), Model(inputs=input_data, outputs=encoded, name='encoder')"
      ],
      "execution_count": 0,
      "outputs": []
    },
    {
      "cell_type": "code",
      "metadata": {
        "id": "C9cxjdQgtXcw",
        "colab_type": "code",
        "colab": {}
      },
      "source": [
        "\n",
        "\n",
        "\n",
        "\n"
      ],
      "execution_count": 0,
      "outputs": []
    },
    {
      "cell_type": "code",
      "metadata": {
        "id": "ls2iup_huCo6",
        "colab_type": "code",
        "colab": {}
      },
      "source": [
        "\n",
        "\n",
        "\n"
      ],
      "execution_count": 0,
      "outputs": []
    },
    {
      "cell_type": "code",
      "metadata": {
        "id": "7qY-zyRUuGQJ",
        "colab_type": "code",
        "colab": {}
      },
      "source": [
        "\n",
        "\n"
      ],
      "execution_count": 0,
      "outputs": []
    },
    {
      "cell_type": "code",
      "metadata": {
        "id": "_jFbI4u6uLXA",
        "colab_type": "code",
        "colab": {}
      },
      "source": [
        "\n",
        "\n"
      ],
      "execution_count": 0,
      "outputs": []
    },
    {
      "cell_type": "code",
      "metadata": {
        "id": "GiRT1yiQuMEo",
        "colab_type": "code",
        "colab": {}
      },
      "source": [
        "for ite in range(int(maxiter)):\n",
        "    if ite % update_interval == 0:\n",
        "        q, _  = model.predict(x, verbose=0)\n",
        "        p = target_distribution(q)  # update the auxiliary target distribution p\n",
        "\n",
        "        # evaluate the clustering performance\n",
        "        y_pred = q.argmax(1)\n",
        "\n",
        "        # check stop criterion\n",
        "        delta_label = np.sum(y_pred != y_pred_last).astype(np.float32) / y_pred.shape[0]\n",
        "        y_pred_last = np.copy(y_pred)\n",
        "        if ite > 0 and delta_label < tol:\n",
        "            print('delta_label ', delta_label, '< tol ', tol)\n",
        "            print('Reached tolerance threshold. Stopping training.')\n",
        "            break\n",
        "    idx = index_array[index * batch_size: min((index+1) * batch_size, x.shape[0])]\n",
        "    loss = model.train_on_batch(x=x[idx], y=[p[idx], x[idx]])\n",
        "    index = index + 1 if (index + 1) * batch_size <= x.shape[0] else 0\n",
        "\n",
        "model.save_weights(save_dir + '/b_DEC_model_final.h5')"
      ],
      "execution_count": 0,
      "outputs": []
    },
    {
      "cell_type": "code",
      "metadata": {
        "id": "Qoyn_cG1utmf",
        "colab_type": "code",
        "colab": {}
      },
      "source": [
        "# evaluation of model prediction \n",
        "q, _ = model.predict(x, verbose=0)\n",
        "p = target_distribution(q)  # update the auxiliary target distribution p\n",
        "\n",
        "# evaluate the clustering performance\n",
        "y_pred = q.argmax(1)"
      ],
      "execution_count": 0,
      "outputs": []
    },
    {
      "cell_type": "code",
      "metadata": {
        "id": "WoNFfUTQu3au",
        "colab_type": "code",
        "colab": {}
      },
      "source": [
        "\n",
        "\n"
      ],
      "execution_count": 0,
      "outputs": []
    },
    {
      "cell_type": "code",
      "metadata": {
        "id": "qo2mtRG-u50C",
        "colab_type": "code",
        "colab": {}
      },
      "source": [
        "\n",
        "\n"
      ],
      "execution_count": 0,
      "outputs": []
    },
    {
      "cell_type": "code",
      "metadata": {
        "id": "DRl1pjasu9cd",
        "colab_type": "code",
        "colab": {}
      },
      "source": [
        "\n",
        "\n"
      ],
      "execution_count": 0,
      "outputs": []
    },
    {
      "cell_type": "code",
      "metadata": {
        "id": "wBGv7iGi06rq",
        "colab_type": "code",
        "outputId": "5bd8cfa9-9dcc-484b-9416-9d7c1bddbb88",
        "colab": {
          "base_uri": "https://localhost:8080/",
          "height": 85
        }
      },
      "source": [
        "data_all['cluster'] = y_pred\n",
        "data_all['cluster'].value_counts()"
      ],
      "execution_count": 0,
      "outputs": [
        {
          "output_type": "execute_result",
          "data": {
            "text/plain": [
              "2    4054\n",
              "1    3025\n",
              "0    1871\n",
              "Name: cluster, dtype: int64"
            ]
          },
          "metadata": {
            "tags": []
          },
          "execution_count": 51
        }
      ]
    },
    {
      "cell_type": "code",
      "metadata": {
        "id": "Jy1EzI0Q1A0p",
        "colab_type": "code",
        "outputId": "67e0fbe4-66cf-403e-abd1-b89737d05e92",
        "colab": {
          "base_uri": "https://localhost:8080/",
          "height": 317
        }
      },
      "source": [
        "data_cluster_0 = data_all[data_all['cluster'] == 0]\n",
        "data_cluster_0.describe()"
      ],
      "execution_count": 0,
      "outputs": [
        {
          "output_type": "execute_result",
          "data": {
            "text/html": [
              "<div>\n",
              "<style scoped>\n",
              "    .dataframe tbody tr th:only-of-type {\n",
              "        vertical-align: middle;\n",
              "    }\n",
              "\n",
              "    .dataframe tbody tr th {\n",
              "        vertical-align: top;\n",
              "    }\n",
              "\n",
              "    .dataframe thead th {\n",
              "        text-align: right;\n",
              "    }\n",
              "</style>\n",
              "<table border=\"1\" class=\"dataframe\">\n",
              "  <thead>\n",
              "    <tr style=\"text-align: right;\">\n",
              "      <th></th>\n",
              "      <th>BALANCE</th>\n",
              "      <th>BALANCE_FREQUENCY</th>\n",
              "      <th>PURCHASES</th>\n",
              "      <th>ONEOFF_PURCHASES</th>\n",
              "      <th>INSTALLMENTS_PURCHASES</th>\n",
              "      <th>CASH_ADVANCE</th>\n",
              "      <th>PURCHASES_FREQUENCY</th>\n",
              "      <th>ONEOFF_PURCHASES_FREQUENCY</th>\n",
              "      <th>PURCHASES_INSTALLMENTS_FREQUENCY</th>\n",
              "      <th>CASH_ADVANCE_FREQUENCY</th>\n",
              "      <th>CASH_ADVANCE_TRX</th>\n",
              "      <th>PURCHASES_TRX</th>\n",
              "      <th>CREDIT_LIMIT</th>\n",
              "      <th>PAYMENTS</th>\n",
              "      <th>MINIMUM_PAYMENTS</th>\n",
              "      <th>PRC_FULL_PAYMENT</th>\n",
              "      <th>TENURE</th>\n",
              "      <th>cluster</th>\n",
              "    </tr>\n",
              "  </thead>\n",
              "  <tbody>\n",
              "    <tr>\n",
              "      <th>count</th>\n",
              "      <td>1871.000000</td>\n",
              "      <td>1871.000000</td>\n",
              "      <td>1871.000000</td>\n",
              "      <td>1871.000000</td>\n",
              "      <td>1871.000000</td>\n",
              "      <td>1871.000000</td>\n",
              "      <td>1871.000000</td>\n",
              "      <td>1871.000000</td>\n",
              "      <td>1871.000000</td>\n",
              "      <td>1871.000000</td>\n",
              "      <td>1871.000000</td>\n",
              "      <td>1871.000000</td>\n",
              "      <td>1871.000000</td>\n",
              "      <td>1871.000000</td>\n",
              "      <td>1871.000000</td>\n",
              "      <td>1871.000000</td>\n",
              "      <td>1871.000000</td>\n",
              "      <td>1871.0</td>\n",
              "    </tr>\n",
              "    <tr>\n",
              "      <th>mean</th>\n",
              "      <td>0.016096</td>\n",
              "      <td>0.821841</td>\n",
              "      <td>0.035023</td>\n",
              "      <td>0.026373</td>\n",
              "      <td>0.028575</td>\n",
              "      <td>0.005486</td>\n",
              "      <td>0.738224</td>\n",
              "      <td>0.344804</td>\n",
              "      <td>0.498074</td>\n",
              "      <td>0.018996</td>\n",
              "      <td>0.005614</td>\n",
              "      <td>0.059734</td>\n",
              "      <td>0.164624</td>\n",
              "      <td>0.043696</td>\n",
              "      <td>0.003164</td>\n",
              "      <td>0.636198</td>\n",
              "      <td>0.914484</td>\n",
              "      <td>0.0</td>\n",
              "    </tr>\n",
              "    <tr>\n",
              "      <th>std</th>\n",
              "      <td>0.039056</td>\n",
              "      <td>0.242592</td>\n",
              "      <td>0.069924</td>\n",
              "      <td>0.069990</td>\n",
              "      <td>0.052426</td>\n",
              "      <td>0.029987</td>\n",
              "      <td>0.299606</td>\n",
              "      <td>0.399685</td>\n",
              "      <td>0.381227</td>\n",
              "      <td>0.067451</td>\n",
              "      <td>0.028025</td>\n",
              "      <td>0.079809</td>\n",
              "      <td>0.134113</td>\n",
              "      <td>0.081528</td>\n",
              "      <td>0.007877</td>\n",
              "      <td>0.314945</td>\n",
              "      <td>0.236188</td>\n",
              "      <td>0.0</td>\n",
              "    </tr>\n",
              "    <tr>\n",
              "      <th>min</th>\n",
              "      <td>0.000000</td>\n",
              "      <td>0.000000</td>\n",
              "      <td>0.000000</td>\n",
              "      <td>0.000000</td>\n",
              "      <td>0.000000</td>\n",
              "      <td>0.000000</td>\n",
              "      <td>0.000000</td>\n",
              "      <td>0.000000</td>\n",
              "      <td>0.000000</td>\n",
              "      <td>0.000000</td>\n",
              "      <td>0.000000</td>\n",
              "      <td>0.000000</td>\n",
              "      <td>0.008347</td>\n",
              "      <td>0.000000</td>\n",
              "      <td>0.000000</td>\n",
              "      <td>0.000000</td>\n",
              "      <td>0.000000</td>\n",
              "      <td>0.0</td>\n",
              "    </tr>\n",
              "    <tr>\n",
              "      <th>25%</th>\n",
              "      <td>0.001684</td>\n",
              "      <td>0.636364</td>\n",
              "      <td>0.006311</td>\n",
              "      <td>0.000000</td>\n",
              "      <td>0.001708</td>\n",
              "      <td>0.000000</td>\n",
              "      <td>0.500000</td>\n",
              "      <td>0.000000</td>\n",
              "      <td>0.083333</td>\n",
              "      <td>0.000000</td>\n",
              "      <td>0.000000</td>\n",
              "      <td>0.019553</td>\n",
              "      <td>0.065109</td>\n",
              "      <td>0.008533</td>\n",
              "      <td>0.001667</td>\n",
              "      <td>0.400000</td>\n",
              "      <td>1.000000</td>\n",
              "      <td>0.0</td>\n",
              "    </tr>\n",
              "    <tr>\n",
              "      <th>50%</th>\n",
              "      <td>0.004811</td>\n",
              "      <td>1.000000</td>\n",
              "      <td>0.015294</td>\n",
              "      <td>0.003368</td>\n",
              "      <td>0.013444</td>\n",
              "      <td>0.000000</td>\n",
              "      <td>0.833333</td>\n",
              "      <td>0.083333</td>\n",
              "      <td>0.500000</td>\n",
              "      <td>0.000000</td>\n",
              "      <td>0.000000</td>\n",
              "      <td>0.033520</td>\n",
              "      <td>0.131886</td>\n",
              "      <td>0.019992</td>\n",
              "      <td>0.002144</td>\n",
              "      <td>0.666667</td>\n",
              "      <td>1.000000</td>\n",
              "      <td>0.0</td>\n",
              "    </tr>\n",
              "    <tr>\n",
              "      <th>75%</th>\n",
              "      <td>0.013489</td>\n",
              "      <td>1.000000</td>\n",
              "      <td>0.037522</td>\n",
              "      <td>0.025586</td>\n",
              "      <td>0.033341</td>\n",
              "      <td>0.000000</td>\n",
              "      <td>1.000000</td>\n",
              "      <td>0.750000</td>\n",
              "      <td>0.888889</td>\n",
              "      <td>0.000000</td>\n",
              "      <td>0.000000</td>\n",
              "      <td>0.067039</td>\n",
              "      <td>0.232053</td>\n",
              "      <td>0.045514</td>\n",
              "      <td>0.002438</td>\n",
              "      <td>1.000000</td>\n",
              "      <td>1.000000</td>\n",
              "      <td>0.0</td>\n",
              "    </tr>\n",
              "    <tr>\n",
              "      <th>max</th>\n",
              "      <td>0.707829</td>\n",
              "      <td>1.000000</td>\n",
              "      <td>1.000000</td>\n",
              "      <td>1.000000</td>\n",
              "      <td>0.688764</td>\n",
              "      <td>0.579086</td>\n",
              "      <td>1.000000</td>\n",
              "      <td>1.000000</td>\n",
              "      <td>1.000000</td>\n",
              "      <td>0.611111</td>\n",
              "      <td>0.504065</td>\n",
              "      <td>1.000000</td>\n",
              "      <td>1.000000</td>\n",
              "      <td>1.000000</td>\n",
              "      <td>0.208288</td>\n",
              "      <td>1.000000</td>\n",
              "      <td>1.000000</td>\n",
              "      <td>0.0</td>\n",
              "    </tr>\n",
              "  </tbody>\n",
              "</table>\n",
              "</div>"
            ],
            "text/plain": [
              "           BALANCE  BALANCE_FREQUENCY  ...       TENURE  cluster\n",
              "count  1871.000000        1871.000000  ...  1871.000000   1871.0\n",
              "mean      0.016096           0.821841  ...     0.914484      0.0\n",
              "std       0.039056           0.242592  ...     0.236188      0.0\n",
              "min       0.000000           0.000000  ...     0.000000      0.0\n",
              "25%       0.001684           0.636364  ...     1.000000      0.0\n",
              "50%       0.004811           1.000000  ...     1.000000      0.0\n",
              "75%       0.013489           1.000000  ...     1.000000      0.0\n",
              "max       0.707829           1.000000  ...     1.000000      0.0\n",
              "\n",
              "[8 rows x 18 columns]"
            ]
          },
          "metadata": {
            "tags": []
          },
          "execution_count": 52
        }
      ]
    },
    {
      "cell_type": "code",
      "metadata": {
        "id": "HcvyyrTJ1MdN",
        "colab_type": "code",
        "outputId": "cdcb5946-06f1-49fa-f4f9-ef25e6128d60",
        "colab": {
          "base_uri": "https://localhost:8080/",
          "height": 317
        }
      },
      "source": [
        "data_cluster_1 = data_all[data_all['cluster'] == 1]\n",
        "data_cluster_1.describe()"
      ],
      "execution_count": 0,
      "outputs": [
        {
          "output_type": "execute_result",
          "data": {
            "text/html": [
              "<div>\n",
              "<style scoped>\n",
              "    .dataframe tbody tr th:only-of-type {\n",
              "        vertical-align: middle;\n",
              "    }\n",
              "\n",
              "    .dataframe tbody tr th {\n",
              "        vertical-align: top;\n",
              "    }\n",
              "\n",
              "    .dataframe thead th {\n",
              "        text-align: right;\n",
              "    }\n",
              "</style>\n",
              "<table border=\"1\" class=\"dataframe\">\n",
              "  <thead>\n",
              "    <tr style=\"text-align: right;\">\n",
              "      <th></th>\n",
              "      <th>BALANCE</th>\n",
              "      <th>BALANCE_FREQUENCY</th>\n",
              "      <th>PURCHASES</th>\n",
              "      <th>ONEOFF_PURCHASES</th>\n",
              "      <th>INSTALLMENTS_PURCHASES</th>\n",
              "      <th>CASH_ADVANCE</th>\n",
              "      <th>PURCHASES_FREQUENCY</th>\n",
              "      <th>ONEOFF_PURCHASES_FREQUENCY</th>\n",
              "      <th>PURCHASES_INSTALLMENTS_FREQUENCY</th>\n",
              "      <th>CASH_ADVANCE_FREQUENCY</th>\n",
              "      <th>CASH_ADVANCE_TRX</th>\n",
              "      <th>PURCHASES_TRX</th>\n",
              "      <th>CREDIT_LIMIT</th>\n",
              "      <th>PAYMENTS</th>\n",
              "      <th>MINIMUM_PAYMENTS</th>\n",
              "      <th>PRC_FULL_PAYMENT</th>\n",
              "      <th>TENURE</th>\n",
              "      <th>cluster</th>\n",
              "    </tr>\n",
              "  </thead>\n",
              "  <tbody>\n",
              "    <tr>\n",
              "      <th>count</th>\n",
              "      <td>3025.000000</td>\n",
              "      <td>3025.000000</td>\n",
              "      <td>3025.000000</td>\n",
              "      <td>3025.000000</td>\n",
              "      <td>3025.000000</td>\n",
              "      <td>3025.000000</td>\n",
              "      <td>3025.000000</td>\n",
              "      <td>3025.000000</td>\n",
              "      <td>3025.000000</td>\n",
              "      <td>3025.000000</td>\n",
              "      <td>3025.000000</td>\n",
              "      <td>3025.000000</td>\n",
              "      <td>3025.000000</td>\n",
              "      <td>3025.000000</td>\n",
              "      <td>3025.000000</td>\n",
              "      <td>3025.000000</td>\n",
              "      <td>3025.000000</td>\n",
              "      <td>3025.0</td>\n",
              "    </tr>\n",
              "    <tr>\n",
              "      <th>mean</th>\n",
              "      <td>0.100715</td>\n",
              "      <td>0.930515</td>\n",
              "      <td>0.031649</td>\n",
              "      <td>0.018751</td>\n",
              "      <td>0.035030</td>\n",
              "      <td>0.016929</td>\n",
              "      <td>0.841322</td>\n",
              "      <td>0.265088</td>\n",
              "      <td>0.737629</td>\n",
              "      <td>0.073248</td>\n",
              "      <td>0.022874</td>\n",
              "      <td>0.075618</td>\n",
              "      <td>0.156158</td>\n",
              "      <td>0.037542</td>\n",
              "      <td>0.014971</td>\n",
              "      <td>0.035428</td>\n",
              "      <td>0.938733</td>\n",
              "      <td>1.0</td>\n",
              "    </tr>\n",
              "    <tr>\n",
              "      <th>std</th>\n",
              "      <td>0.123385</td>\n",
              "      <td>0.190148</td>\n",
              "      <td>0.042238</td>\n",
              "      <td>0.036396</td>\n",
              "      <td>0.048033</td>\n",
              "      <td>0.043801</td>\n",
              "      <td>0.193607</td>\n",
              "      <td>0.319890</td>\n",
              "      <td>0.257770</td>\n",
              "      <td>0.127480</td>\n",
              "      <td>0.055436</td>\n",
              "      <td>0.082458</td>\n",
              "      <td>0.126744</td>\n",
              "      <td>0.055040</td>\n",
              "      <td>0.039142</td>\n",
              "      <td>0.075996</td>\n",
              "      <td>0.196821</td>\n",
              "      <td>0.0</td>\n",
              "    </tr>\n",
              "    <tr>\n",
              "      <th>min</th>\n",
              "      <td>0.000000</td>\n",
              "      <td>0.000000</td>\n",
              "      <td>0.000245</td>\n",
              "      <td>0.000000</td>\n",
              "      <td>0.000000</td>\n",
              "      <td>0.000000</td>\n",
              "      <td>0.250000</td>\n",
              "      <td>0.000000</td>\n",
              "      <td>0.000000</td>\n",
              "      <td>0.000000</td>\n",
              "      <td>0.000000</td>\n",
              "      <td>0.000000</td>\n",
              "      <td>0.008347</td>\n",
              "      <td>0.000000</td>\n",
              "      <td>0.000000</td>\n",
              "      <td>0.000000</td>\n",
              "      <td>0.000000</td>\n",
              "      <td>1.0</td>\n",
              "    </tr>\n",
              "    <tr>\n",
              "      <th>25%</th>\n",
              "      <td>0.016511</td>\n",
              "      <td>1.000000</td>\n",
              "      <td>0.007954</td>\n",
              "      <td>0.000000</td>\n",
              "      <td>0.010458</td>\n",
              "      <td>0.000000</td>\n",
              "      <td>0.666667</td>\n",
              "      <td>0.000000</td>\n",
              "      <td>0.500000</td>\n",
              "      <td>0.000000</td>\n",
              "      <td>0.000000</td>\n",
              "      <td>0.030726</td>\n",
              "      <td>0.048414</td>\n",
              "      <td>0.009392</td>\n",
              "      <td>0.002432</td>\n",
              "      <td>0.000000</td>\n",
              "      <td>1.000000</td>\n",
              "      <td>1.0</td>\n",
              "    </tr>\n",
              "    <tr>\n",
              "      <th>50%</th>\n",
              "      <td>0.059105</td>\n",
              "      <td>1.000000</td>\n",
              "      <td>0.017587</td>\n",
              "      <td>0.004410</td>\n",
              "      <td>0.020594</td>\n",
              "      <td>0.000000</td>\n",
              "      <td>0.916667</td>\n",
              "      <td>0.111111</td>\n",
              "      <td>0.833333</td>\n",
              "      <td>0.000000</td>\n",
              "      <td>0.000000</td>\n",
              "      <td>0.047486</td>\n",
              "      <td>0.115192</td>\n",
              "      <td>0.021303</td>\n",
              "      <td>0.005883</td>\n",
              "      <td>0.000000</td>\n",
              "      <td>1.000000</td>\n",
              "      <td>1.0</td>\n",
              "    </tr>\n",
              "    <tr>\n",
              "      <th>75%</th>\n",
              "      <td>0.133242</td>\n",
              "      <td>1.000000</td>\n",
              "      <td>0.039278</td>\n",
              "      <td>0.023474</td>\n",
              "      <td>0.042282</td>\n",
              "      <td>0.016426</td>\n",
              "      <td>1.000000</td>\n",
              "      <td>0.444444</td>\n",
              "      <td>1.000000</td>\n",
              "      <td>0.111111</td>\n",
              "      <td>0.024390</td>\n",
              "      <td>0.089385</td>\n",
              "      <td>0.232053</td>\n",
              "      <td>0.043434</td>\n",
              "      <td>0.014451</td>\n",
              "      <td>0.000000</td>\n",
              "      <td>1.000000</td>\n",
              "      <td>1.0</td>\n",
              "    </tr>\n",
              "    <tr>\n",
              "      <th>max</th>\n",
              "      <td>1.000000</td>\n",
              "      <td>1.000000</td>\n",
              "      <td>0.663541</td>\n",
              "      <td>0.651291</td>\n",
              "      <td>1.000000</td>\n",
              "      <td>1.000000</td>\n",
              "      <td>1.000000</td>\n",
              "      <td>1.000000</td>\n",
              "      <td>1.000000</td>\n",
              "      <td>0.666667</td>\n",
              "      <td>1.000000</td>\n",
              "      <td>0.969274</td>\n",
              "      <td>1.000000</td>\n",
              "      <td>0.800994</td>\n",
              "      <td>1.000000</td>\n",
              "      <td>0.400000</td>\n",
              "      <td>1.000000</td>\n",
              "      <td>1.0</td>\n",
              "    </tr>\n",
              "  </tbody>\n",
              "</table>\n",
              "</div>"
            ],
            "text/plain": [
              "           BALANCE  BALANCE_FREQUENCY  ...       TENURE  cluster\n",
              "count  3025.000000        3025.000000  ...  3025.000000   3025.0\n",
              "mean      0.100715           0.930515  ...     0.938733      1.0\n",
              "std       0.123385           0.190148  ...     0.196821      0.0\n",
              "min       0.000000           0.000000  ...     0.000000      1.0\n",
              "25%       0.016511           1.000000  ...     1.000000      1.0\n",
              "50%       0.059105           1.000000  ...     1.000000      1.0\n",
              "75%       0.133242           1.000000  ...     1.000000      1.0\n",
              "max       1.000000           1.000000  ...     1.000000      1.0\n",
              "\n",
              "[8 rows x 18 columns]"
            ]
          },
          "metadata": {
            "tags": []
          },
          "execution_count": 53
        }
      ]
    },
    {
      "cell_type": "code",
      "metadata": {
        "id": "ZrGawNXi1Vr7",
        "colab_type": "code",
        "outputId": "2d75c3e4-8ad7-4aaa-98b9-eeea82c1b02d",
        "colab": {
          "base_uri": "https://localhost:8080/",
          "height": 317
        }
      },
      "source": [
        "data_cluster_2 = data_all[data_all['cluster'] == 2]\n",
        "data_cluster_2.describe()"
      ],
      "execution_count": 0,
      "outputs": [
        {
          "output_type": "execute_result",
          "data": {
            "text/html": [
              "<div>\n",
              "<style scoped>\n",
              "    .dataframe tbody tr th:only-of-type {\n",
              "        vertical-align: middle;\n",
              "    }\n",
              "\n",
              "    .dataframe tbody tr th {\n",
              "        vertical-align: top;\n",
              "    }\n",
              "\n",
              "    .dataframe thead th {\n",
              "        text-align: right;\n",
              "    }\n",
              "</style>\n",
              "<table border=\"1\" class=\"dataframe\">\n",
              "  <thead>\n",
              "    <tr style=\"text-align: right;\">\n",
              "      <th></th>\n",
              "      <th>BALANCE</th>\n",
              "      <th>BALANCE_FREQUENCY</th>\n",
              "      <th>PURCHASES</th>\n",
              "      <th>ONEOFF_PURCHASES</th>\n",
              "      <th>INSTALLMENTS_PURCHASES</th>\n",
              "      <th>CASH_ADVANCE</th>\n",
              "      <th>PURCHASES_FREQUENCY</th>\n",
              "      <th>ONEOFF_PURCHASES_FREQUENCY</th>\n",
              "      <th>PURCHASES_INSTALLMENTS_FREQUENCY</th>\n",
              "      <th>CASH_ADVANCE_FREQUENCY</th>\n",
              "      <th>CASH_ADVANCE_TRX</th>\n",
              "      <th>PURCHASES_TRX</th>\n",
              "      <th>CREDIT_LIMIT</th>\n",
              "      <th>PAYMENTS</th>\n",
              "      <th>MINIMUM_PAYMENTS</th>\n",
              "      <th>PRC_FULL_PAYMENT</th>\n",
              "      <th>TENURE</th>\n",
              "      <th>cluster</th>\n",
              "    </tr>\n",
              "  </thead>\n",
              "  <tbody>\n",
              "    <tr>\n",
              "      <th>count</th>\n",
              "      <td>4054.000000</td>\n",
              "      <td>4054.000000</td>\n",
              "      <td>4054.000000</td>\n",
              "      <td>4054.000000</td>\n",
              "      <td>4054.000000</td>\n",
              "      <td>4054.000000</td>\n",
              "      <td>4054.000000</td>\n",
              "      <td>4054.000000</td>\n",
              "      <td>4054.000000</td>\n",
              "      <td>4054.000000</td>\n",
              "      <td>4054.000000</td>\n",
              "      <td>4054.000000</td>\n",
              "      <td>4054.000000</td>\n",
              "      <td>4054.000000</td>\n",
              "      <td>4054.000000</td>\n",
              "      <td>4054.000000</td>\n",
              "      <td>4054.000000</td>\n",
              "      <td>4054.0</td>\n",
              "    </tr>\n",
              "    <tr>\n",
              "      <th>mean</th>\n",
              "      <td>0.098792</td>\n",
              "      <td>0.863123</td>\n",
              "      <td>0.005384</td>\n",
              "      <td>0.005924</td>\n",
              "      <td>0.001008</td>\n",
              "      <td>0.030682</td>\n",
              "      <td>0.114066</td>\n",
              "      <td>0.090029</td>\n",
              "      <td>0.024294</td>\n",
              "      <td>0.135482</td>\n",
              "      <td>0.038653</td>\n",
              "      <td>0.006719</td>\n",
              "      <td>0.135077</td>\n",
              "      <td>0.027258</td>\n",
              "      <td>0.011466</td>\n",
              "      <td>0.019302</td>\n",
              "      <td>0.907581</td>\n",
              "      <td>2.0</td>\n",
              "    </tr>\n",
              "    <tr>\n",
              "      <th>std</th>\n",
              "      <td>0.108488</td>\n",
              "      <td>0.257014</td>\n",
              "      <td>0.013631</td>\n",
              "      <td>0.016153</td>\n",
              "      <td>0.004548</td>\n",
              "      <td>0.048032</td>\n",
              "      <td>0.156192</td>\n",
              "      <td>0.146769</td>\n",
              "      <td>0.065091</td>\n",
              "      <td>0.143076</td>\n",
              "      <td>0.061509</td>\n",
              "      <td>0.020035</td>\n",
              "      <td>0.109392</td>\n",
              "      <td>0.042049</td>\n",
              "      <td>0.029186</td>\n",
              "      <td>0.053428</td>\n",
              "      <td>0.234060</td>\n",
              "      <td>0.0</td>\n",
              "    </tr>\n",
              "    <tr>\n",
              "      <th>min</th>\n",
              "      <td>0.000000</td>\n",
              "      <td>0.000000</td>\n",
              "      <td>0.000000</td>\n",
              "      <td>0.000000</td>\n",
              "      <td>0.000000</td>\n",
              "      <td>0.000000</td>\n",
              "      <td>0.000000</td>\n",
              "      <td>0.000000</td>\n",
              "      <td>0.000000</td>\n",
              "      <td>0.000000</td>\n",
              "      <td>0.000000</td>\n",
              "      <td>0.000000</td>\n",
              "      <td>0.000000</td>\n",
              "      <td>0.000000</td>\n",
              "      <td>0.000000</td>\n",
              "      <td>0.000000</td>\n",
              "      <td>0.000000</td>\n",
              "      <td>2.0</td>\n",
              "    </tr>\n",
              "    <tr>\n",
              "      <th>25%</th>\n",
              "      <td>0.022370</td>\n",
              "      <td>0.857143</td>\n",
              "      <td>0.000000</td>\n",
              "      <td>0.000000</td>\n",
              "      <td>0.000000</td>\n",
              "      <td>0.000000</td>\n",
              "      <td>0.000000</td>\n",
              "      <td>0.000000</td>\n",
              "      <td>0.000000</td>\n",
              "      <td>0.000000</td>\n",
              "      <td>0.000000</td>\n",
              "      <td>0.000000</td>\n",
              "      <td>0.048414</td>\n",
              "      <td>0.006304</td>\n",
              "      <td>0.002495</td>\n",
              "      <td>0.000000</td>\n",
              "      <td>1.000000</td>\n",
              "      <td>2.0</td>\n",
              "    </tr>\n",
              "    <tr>\n",
              "      <th>50%</th>\n",
              "      <td>0.064076</td>\n",
              "      <td>1.000000</td>\n",
              "      <td>0.000342</td>\n",
              "      <td>0.000000</td>\n",
              "      <td>0.000000</td>\n",
              "      <td>0.010816</td>\n",
              "      <td>0.083333</td>\n",
              "      <td>0.000000</td>\n",
              "      <td>0.000000</td>\n",
              "      <td>0.111111</td>\n",
              "      <td>0.016260</td>\n",
              "      <td>0.002793</td>\n",
              "      <td>0.098497</td>\n",
              "      <td>0.013220</td>\n",
              "      <td>0.005384</td>\n",
              "      <td>0.000000</td>\n",
              "      <td>1.000000</td>\n",
              "      <td>2.0</td>\n",
              "    </tr>\n",
              "    <tr>\n",
              "      <th>75%</th>\n",
              "      <td>0.133864</td>\n",
              "      <td>1.000000</td>\n",
              "      <td>0.005098</td>\n",
              "      <td>0.005196</td>\n",
              "      <td>0.000000</td>\n",
              "      <td>0.041839</td>\n",
              "      <td>0.166667</td>\n",
              "      <td>0.108333</td>\n",
              "      <td>0.000000</td>\n",
              "      <td>0.222222</td>\n",
              "      <td>0.048780</td>\n",
              "      <td>0.008380</td>\n",
              "      <td>0.198664</td>\n",
              "      <td>0.029506</td>\n",
              "      <td>0.011661</td>\n",
              "      <td>0.000000</td>\n",
              "      <td>1.000000</td>\n",
              "      <td>2.0</td>\n",
              "    </tr>\n",
              "    <tr>\n",
              "      <th>max</th>\n",
              "      <td>0.801245</td>\n",
              "      <td>1.000000</td>\n",
              "      <td>0.289868</td>\n",
              "      <td>0.348738</td>\n",
              "      <td>0.133333</td>\n",
              "      <td>0.555698</td>\n",
              "      <td>0.750000</td>\n",
              "      <td>0.750000</td>\n",
              "      <td>0.333333</td>\n",
              "      <td>1.000000</td>\n",
              "      <td>1.000000</td>\n",
              "      <td>0.863128</td>\n",
              "      <td>0.766277</td>\n",
              "      <td>0.577122</td>\n",
              "      <td>0.798778</td>\n",
              "      <td>0.444444</td>\n",
              "      <td>1.000000</td>\n",
              "      <td>2.0</td>\n",
              "    </tr>\n",
              "  </tbody>\n",
              "</table>\n",
              "</div>"
            ],
            "text/plain": [
              "           BALANCE  BALANCE_FREQUENCY  ...       TENURE  cluster\n",
              "count  4054.000000        4054.000000  ...  4054.000000   4054.0\n",
              "mean      0.098792           0.863123  ...     0.907581      2.0\n",
              "std       0.108488           0.257014  ...     0.234060      0.0\n",
              "min       0.000000           0.000000  ...     0.000000      2.0\n",
              "25%       0.022370           0.857143  ...     1.000000      2.0\n",
              "50%       0.064076           1.000000  ...     1.000000      2.0\n",
              "75%       0.133864           1.000000  ...     1.000000      2.0\n",
              "max       0.801245           1.000000  ...     1.000000      2.0\n",
              "\n",
              "[8 rows x 18 columns]"
            ]
          },
          "metadata": {
            "tags": []
          },
          "execution_count": 54
        }
      ]
    },
    {
      "cell_type": "code",
      "metadata": {
        "id": "6WV8S87M1fuz",
        "colab_type": "code",
        "outputId": "c231fdf1-1abd-408f-b492-2729bcf4c4c9",
        "colab": {
          "base_uri": "https://localhost:8080/",
          "height": 265
        }
      },
      "source": [
        "import numpy as np\n",
        "from sklearn.decomposition import PCA\n",
        "\n",
        "pca = PCA(n_components=2)\n",
        "x_pca = pca.fit_transform(x)\n",
        "\n",
        "x_pca.shape\n",
        "\n",
        "vis_x = x_pca[:, 0]\n",
        "vis_y = x_pca[:, 1]\n",
        "plt.scatter(vis_x, vis_y, c=y_pred, cmap=plt.cm.get_cmap(\"jet\", 256))\n",
        "plt.colorbar(ticks=range(256))\n",
        "plt.clim(-0.5, 9.5)\n",
        "plt.show()\n"
      ],
      "execution_count": 0,
      "outputs": [
        {
          "output_type": "display_data",
          "data": {
            "image/png": "[encoded data removed]",
            "text/plain": [
              "<Figure size 432x288 with 2 Axes>"
            ]
          },
          "metadata": {
            "tags": [],
            "needs_background": "light"
          }
        }
      ]
    }
  ]
}